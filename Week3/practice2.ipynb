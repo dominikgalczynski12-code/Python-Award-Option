{
 "cells": [
  {
   "cell_type": "code",
   "execution_count": null,
   "id": "cb08c453",
   "metadata": {},
   "outputs": [],
   "source": [
    "import random\n",
    "def addEm(x,y):\n",
    "#adds two values returns a sum\n",
    "return x+y\n",
    "def timesEm(x,y):\n",
    "#Multiplies two values\n",
    "return x*y\n",
    "def divEm(x,y):\n",
    "#returns the quotient\n",
    "return x/y\n",
    "\n",
    "#num1 = int(input('Num1:'))\n",
    "#num2 = int(input('Num2:'))\n",
    "\n",
    "for i in range(5):\n",
    "    op = random.choice([\"+\",\"*\",\"/\"])\n",
    "    num1 =random.randint(1,13)\n",
    "    num2 =random.randint(1,13)\n",
    "    user_answer = int(input(f'{num1} {op} {num2} = '))\n",
    "    if op ==\"+\" and user_answer ==addEm(num1,num2)):\n",
    "        print('Correct!')"
   ]
  },
  {
   "cell_type": "code",
   "execution_count": null,
   "id": "c302bc49",
   "metadata": {},
   "outputs": [],
   "source": []
  }
 ],
 "metadata": {
  "language_info": {
   "name": "python"
  }
 },
 "nbformat": 4,
 "nbformat_minor": 5
}
