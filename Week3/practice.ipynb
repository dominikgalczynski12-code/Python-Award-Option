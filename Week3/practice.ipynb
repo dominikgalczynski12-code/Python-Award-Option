def adder(x,y):
    #adds two vslues returns a sum
    return x+y

adder(3,5)